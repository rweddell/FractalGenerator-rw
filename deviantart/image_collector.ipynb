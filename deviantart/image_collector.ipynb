{
 "cells": [
  {
   "cell_type": "code",
   "execution_count": 7,
   "metadata": {},
   "outputs": [],
   "source": [
    "import deviantart\n",
    "import json\n",
    "import requests\n",
    "import os\n"
   ]
  },
  {
   "cell_type": "code",
   "execution_count": 8,
   "metadata": {},
   "outputs": [],
   "source": [
    "with open('./config.json') as file:\n",
    "    auth = json.load(file)"
   ]
  },
  {
   "cell_type": "markdown",
   "metadata": {},
   "source": [
    "### Eample from documentation\n",
    "\n",
    "https://neighbordog.github.io/deviantart/deviantart.html#module-deviantart.api\n",
    "\n",
    "```python\n",
    "#create an API object with your client credentials\n",
    "da = deviantart.Api(auth['client_id'], auth['client_secret'])\n",
    "\n",
    "#fetch daily deviations\n",
    "dailydeviations = da.browse_dailydeviations()\n",
    "\n",
    "#loop over daily deviations\n",
    "for deviation in dailydeviations:\n",
    "\n",
    "    #print deviation title\n",
    "    print deviation.title\n",
    "\n",
    "    #print username of author of deviation\n",
    "    print deviation.author.username\n",
    "```"
   ]
  },
  {
   "cell_type": "code",
   "execution_count": 9,
   "metadata": {},
   "outputs": [],
   "source": [
    "# https://www.deviantart.com/era7/art/Dragon-Soul-Reaper-894258791"
   ]
  },
  {
   "cell_type": "code",
   "execution_count": 10,
   "metadata": {},
   "outputs": [],
   "source": [
    "da = deviantart.Api(auth['client_id'], auth['client_secret'])"
   ]
  },
  {
   "cell_type": "code",
   "execution_count": 11,
   "metadata": {},
   "outputs": [],
   "source": [
    "destination = 'test'\n",
    "\n",
    "REPO_PATH = fr'F:\\deviantart\\{destination}'\n",
    "\n",
    "if not os.path.isdir(REPO_PATH):\n",
    "    os.mkdir(REPO_PATH)\n",
    "\n",
    "DRAGONS = r'https://www.deviantart.com/search/deviations?q=dragon&tag=digitalart'\n",
    "\n",
    "ENDPOINT = 'search/deviations'\n",
    "# (hot/morelikethis/newest/undiscovered/popular/tags)\n",
    "# 'morelikethis' requires a seed to find more like this\n",
    "\n",
    "# CAT_PATH = 'digitalart'\n",
    "QUERY = 'dragon'\n",
    "TAG = 'digitalart'\n",
    "\n",
    "PAGE_SIZE = 30\n",
    "PAGE_NUM = 1"
   ]
  },
  {
   "cell_type": "code",
   "execution_count": 12,
   "metadata": {},
   "outputs": [
    {
     "ename": "DeviantartError",
     "evalue": "HTTP Error 404: Not Found",
     "output_type": "error",
     "traceback": [
      "\u001b[1;31m---------------------------------------------------------------------------\u001b[0m",
      "\u001b[1;31mHTTPError\u001b[0m                                 Traceback (most recent call last)",
      "File \u001b[1;32m~\\Documents\\GitHub\\FractalGenerator-rw\\deviantart\\env\\lib\\site-packages\\deviantart\\api.py:1752\u001b[0m, in \u001b[0;36mApi._req\u001b[1;34m(self, endpoint, get_data, post_data)\u001b[0m\n\u001b[0;32m   1751\u001b[0m encdata \u001b[38;5;241m=\u001b[39m urlencode(post_data, \u001b[38;5;28;01mTrue\u001b[39;00m)\u001b[38;5;241m.\u001b[39mencode(\u001b[38;5;124m'\u001b[39m\u001b[38;5;124mutf-8\u001b[39m\u001b[38;5;124m'\u001b[39m)\n\u001b[1;32m-> 1752\u001b[0m response \u001b[38;5;241m=\u001b[39m \u001b[38;5;28;43mself\u001b[39;49m\u001b[38;5;241;43m.\u001b[39;49m\u001b[43moauth\u001b[49m\u001b[38;5;241;43m.\u001b[39;49m\u001b[43mrequest\u001b[49m\u001b[43m(\u001b[49m\u001b[43mrequest_parameter\u001b[49m\u001b[43m,\u001b[49m\u001b[43m \u001b[49m\u001b[43mdata\u001b[49m\u001b[38;5;241;43m=\u001b[39;49m\u001b[43mencdata\u001b[49m\u001b[43m)\u001b[49m\n\u001b[0;32m   1753\u001b[0m \u001b[38;5;28mself\u001b[39m\u001b[38;5;241m.\u001b[39m_checkResponseForErrors(response)\n",
      "File \u001b[1;32m~\\Documents\\GitHub\\FractalGenerator-rw\\deviantart\\env\\lib\\site-packages\\sanction\\__init__.py:166\u001b[0m, in \u001b[0;36mClient.request\u001b[1;34m(self, url, method, data, headers, parser)\u001b[0m\n\u001b[0;32m    163\u001b[0m req \u001b[38;5;241m=\u001b[39m \u001b[38;5;28mself\u001b[39m\u001b[38;5;241m.\u001b[39mtoken_transport(\u001b[38;5;124m'\u001b[39m\u001b[38;5;132;01m{0}\u001b[39;00m\u001b[38;5;132;01m{1}\u001b[39;00m\u001b[38;5;124m'\u001b[39m\u001b[38;5;241m.\u001b[39mformat(\u001b[38;5;28mself\u001b[39m\u001b[38;5;241m.\u001b[39mresource_endpoint, \n\u001b[0;32m    164\u001b[0m     url), \u001b[38;5;28mself\u001b[39m\u001b[38;5;241m.\u001b[39maccess_token, data\u001b[38;5;241m=\u001b[39mdata, method\u001b[38;5;241m=\u001b[39mmethod, headers\u001b[38;5;241m=\u001b[39mheaders)\n\u001b[1;32m--> 166\u001b[0m resp \u001b[38;5;241m=\u001b[39m \u001b[43murlopen\u001b[49m\u001b[43m(\u001b[49m\u001b[43mreq\u001b[49m\u001b[43m)\u001b[49m\n\u001b[0;32m    167\u001b[0m data \u001b[38;5;241m=\u001b[39m resp\u001b[38;5;241m.\u001b[39mread()\n",
      "File \u001b[1;32m~\\AppData\\Local\\Programs\\Python\\Python310\\lib\\urllib\\request.py:216\u001b[0m, in \u001b[0;36murlopen\u001b[1;34m(url, data, timeout, cafile, capath, cadefault, context)\u001b[0m\n\u001b[0;32m    215\u001b[0m     opener \u001b[38;5;241m=\u001b[39m _opener\n\u001b[1;32m--> 216\u001b[0m \u001b[38;5;28;01mreturn\u001b[39;00m \u001b[43mopener\u001b[49m\u001b[38;5;241;43m.\u001b[39;49m\u001b[43mopen\u001b[49m\u001b[43m(\u001b[49m\u001b[43murl\u001b[49m\u001b[43m,\u001b[49m\u001b[43m \u001b[49m\u001b[43mdata\u001b[49m\u001b[43m,\u001b[49m\u001b[43m \u001b[49m\u001b[43mtimeout\u001b[49m\u001b[43m)\u001b[49m\n",
      "File \u001b[1;32m~\\AppData\\Local\\Programs\\Python\\Python310\\lib\\urllib\\request.py:525\u001b[0m, in \u001b[0;36mOpenerDirector.open\u001b[1;34m(self, fullurl, data, timeout)\u001b[0m\n\u001b[0;32m    524\u001b[0m     meth \u001b[38;5;241m=\u001b[39m \u001b[38;5;28mgetattr\u001b[39m(processor, meth_name)\n\u001b[1;32m--> 525\u001b[0m     response \u001b[38;5;241m=\u001b[39m \u001b[43mmeth\u001b[49m\u001b[43m(\u001b[49m\u001b[43mreq\u001b[49m\u001b[43m,\u001b[49m\u001b[43m \u001b[49m\u001b[43mresponse\u001b[49m\u001b[43m)\u001b[49m\n\u001b[0;32m    527\u001b[0m \u001b[38;5;28;01mreturn\u001b[39;00m response\n",
      "File \u001b[1;32m~\\AppData\\Local\\Programs\\Python\\Python310\\lib\\urllib\\request.py:634\u001b[0m, in \u001b[0;36mHTTPErrorProcessor.http_response\u001b[1;34m(self, request, response)\u001b[0m\n\u001b[0;32m    633\u001b[0m \u001b[38;5;28;01mif\u001b[39;00m \u001b[38;5;129;01mnot\u001b[39;00m (\u001b[38;5;241m200\u001b[39m \u001b[38;5;241m<\u001b[39m\u001b[38;5;241m=\u001b[39m code \u001b[38;5;241m<\u001b[39m \u001b[38;5;241m300\u001b[39m):\n\u001b[1;32m--> 634\u001b[0m     response \u001b[38;5;241m=\u001b[39m \u001b[38;5;28;43mself\u001b[39;49m\u001b[38;5;241;43m.\u001b[39;49m\u001b[43mparent\u001b[49m\u001b[38;5;241;43m.\u001b[39;49m\u001b[43merror\u001b[49m\u001b[43m(\u001b[49m\n\u001b[0;32m    635\u001b[0m \u001b[43m        \u001b[49m\u001b[38;5;124;43m'\u001b[39;49m\u001b[38;5;124;43mhttp\u001b[39;49m\u001b[38;5;124;43m'\u001b[39;49m\u001b[43m,\u001b[49m\u001b[43m \u001b[49m\u001b[43mrequest\u001b[49m\u001b[43m,\u001b[49m\u001b[43m \u001b[49m\u001b[43mresponse\u001b[49m\u001b[43m,\u001b[49m\u001b[43m \u001b[49m\u001b[43mcode\u001b[49m\u001b[43m,\u001b[49m\u001b[43m \u001b[49m\u001b[43mmsg\u001b[49m\u001b[43m,\u001b[49m\u001b[43m \u001b[49m\u001b[43mhdrs\u001b[49m\u001b[43m)\u001b[49m\n\u001b[0;32m    637\u001b[0m \u001b[38;5;28;01mreturn\u001b[39;00m response\n",
      "File \u001b[1;32m~\\AppData\\Local\\Programs\\Python\\Python310\\lib\\urllib\\request.py:563\u001b[0m, in \u001b[0;36mOpenerDirector.error\u001b[1;34m(self, proto, *args)\u001b[0m\n\u001b[0;32m    562\u001b[0m args \u001b[38;5;241m=\u001b[39m (\u001b[38;5;28mdict\u001b[39m, \u001b[38;5;124m'\u001b[39m\u001b[38;5;124mdefault\u001b[39m\u001b[38;5;124m'\u001b[39m, \u001b[38;5;124m'\u001b[39m\u001b[38;5;124mhttp_error_default\u001b[39m\u001b[38;5;124m'\u001b[39m) \u001b[38;5;241m+\u001b[39m orig_args\n\u001b[1;32m--> 563\u001b[0m \u001b[38;5;28;01mreturn\u001b[39;00m \u001b[38;5;28;43mself\u001b[39;49m\u001b[38;5;241;43m.\u001b[39;49m\u001b[43m_call_chain\u001b[49m\u001b[43m(\u001b[49m\u001b[38;5;241;43m*\u001b[39;49m\u001b[43margs\u001b[49m\u001b[43m)\u001b[49m\n",
      "File \u001b[1;32m~\\AppData\\Local\\Programs\\Python\\Python310\\lib\\urllib\\request.py:496\u001b[0m, in \u001b[0;36mOpenerDirector._call_chain\u001b[1;34m(self, chain, kind, meth_name, *args)\u001b[0m\n\u001b[0;32m    495\u001b[0m func \u001b[38;5;241m=\u001b[39m \u001b[38;5;28mgetattr\u001b[39m(handler, meth_name)\n\u001b[1;32m--> 496\u001b[0m result \u001b[38;5;241m=\u001b[39m \u001b[43mfunc\u001b[49m\u001b[43m(\u001b[49m\u001b[38;5;241;43m*\u001b[39;49m\u001b[43margs\u001b[49m\u001b[43m)\u001b[49m\n\u001b[0;32m    497\u001b[0m \u001b[38;5;28;01mif\u001b[39;00m result \u001b[38;5;129;01mis\u001b[39;00m \u001b[38;5;129;01mnot\u001b[39;00m \u001b[38;5;28;01mNone\u001b[39;00m:\n",
      "File \u001b[1;32m~\\AppData\\Local\\Programs\\Python\\Python310\\lib\\urllib\\request.py:643\u001b[0m, in \u001b[0;36mHTTPDefaultErrorHandler.http_error_default\u001b[1;34m(self, req, fp, code, msg, hdrs)\u001b[0m\n\u001b[0;32m    642\u001b[0m \u001b[38;5;28;01mdef\u001b[39;00m \u001b[38;5;21mhttp_error_default\u001b[39m(\u001b[38;5;28mself\u001b[39m, req, fp, code, msg, hdrs):\n\u001b[1;32m--> 643\u001b[0m     \u001b[38;5;28;01mraise\u001b[39;00m HTTPError(req\u001b[38;5;241m.\u001b[39mfull_url, code, msg, hdrs, fp)\n",
      "\u001b[1;31mHTTPError\u001b[0m: HTTP Error 404: Not Found",
      "\nDuring handling of the above exception, another exception occurred:\n",
      "\u001b[1;31mDeviantartError\u001b[0m                           Traceback (most recent call last)",
      "Input \u001b[1;32mIn [12]\u001b[0m, in \u001b[0;36m<cell line: 1>\u001b[1;34m()\u001b[0m\n\u001b[1;32m----> 1\u001b[0m query \u001b[38;5;241m=\u001b[39m \u001b[43mda\u001b[49m\u001b[38;5;241;43m.\u001b[39;49m\u001b[43mbrowse\u001b[49m\u001b[43m(\u001b[49m\n\u001b[0;32m      2\u001b[0m \u001b[43m    \u001b[49m\u001b[43mendpoint\u001b[49m\u001b[38;5;241;43m=\u001b[39;49m\u001b[43mENDPOINT\u001b[49m\u001b[43m,\u001b[49m\n\u001b[0;32m      3\u001b[0m \u001b[43m    \u001b[49m\u001b[43mq\u001b[49m\u001b[38;5;241;43m=\u001b[39;49m\u001b[43mQUERY\u001b[49m\u001b[43m,\u001b[49m\u001b[43m \u001b[49m\n\u001b[0;32m      4\u001b[0m \u001b[43m    \u001b[49m\u001b[43mtag\u001b[49m\u001b[38;5;241;43m=\u001b[39;49m\u001b[43mTAG\u001b[49m\u001b[43m,\u001b[49m\u001b[43m \u001b[49m\n\u001b[0;32m      5\u001b[0m \u001b[43m    \u001b[49m\u001b[43mlimit\u001b[49m\u001b[38;5;241;43m=\u001b[39;49m\u001b[43mPAGE_SIZE\u001b[49m\u001b[43m,\u001b[49m\u001b[43m \u001b[49m\n\u001b[0;32m      6\u001b[0m \u001b[43m    \u001b[49m\u001b[43moffset\u001b[49m\u001b[38;5;241;43m=\u001b[39;49m\u001b[43mPAGE_NUM\u001b[49m\u001b[43m)\u001b[49m\n",
      "File \u001b[1;32m~\\Documents\\GitHub\\FractalGenerator-rw\\deviantart\\env\\lib\\site-packages\\deviantart\\api.py:284\u001b[0m, in \u001b[0;36mApi.browse\u001b[1;34m(self, endpoint, category_path, seed, q, timerange, tag, offset, limit)\u001b[0m\n\u001b[0;32m    282\u001b[0m \u001b[38;5;28;01melif\u001b[39;00m endpoint \u001b[38;5;241m==\u001b[39m \u001b[38;5;124m\"\u001b[39m\u001b[38;5;124msearch/deviations\u001b[39m\u001b[38;5;124m\"\u001b[39m:\n\u001b[0;32m    283\u001b[0m     \u001b[38;5;28;01mif\u001b[39;00m tag:\n\u001b[1;32m--> 284\u001b[0m         response \u001b[38;5;241m=\u001b[39m \u001b[38;5;28;43mself\u001b[39;49m\u001b[38;5;241;43m.\u001b[39;49m\u001b[43m_req\u001b[49m\u001b[43m(\u001b[49m\u001b[38;5;124;43m'\u001b[39;49m\u001b[38;5;124;43msearch/deviations\u001b[39;49m\u001b[38;5;124;43m'\u001b[39;49m\u001b[43m,\u001b[49m\u001b[43m \u001b[49m\u001b[43m{\u001b[49m\n\u001b[0;32m    285\u001b[0m \u001b[43m            \u001b[49m\u001b[38;5;124;43m\"\u001b[39;49m\u001b[38;5;124;43mtag\u001b[39;49m\u001b[38;5;124;43m\"\u001b[39;49m\u001b[43m:\u001b[49m\u001b[43mtag\u001b[49m\u001b[43m,\u001b[49m\n\u001b[0;32m    286\u001b[0m \u001b[43m            \u001b[49m\u001b[38;5;124;43m\"\u001b[39;49m\u001b[38;5;124;43mq\u001b[39;49m\u001b[38;5;124;43m\"\u001b[39;49m\u001b[43m:\u001b[49m\u001b[43mq\u001b[49m\u001b[43m,\u001b[49m\n\u001b[0;32m    287\u001b[0m \u001b[43m            \u001b[49m\u001b[38;5;124;43m\"\u001b[39;49m\u001b[38;5;124;43moffset\u001b[39;49m\u001b[38;5;124;43m\"\u001b[39;49m\u001b[43m:\u001b[49m\u001b[43moffset\u001b[49m\u001b[43m,\u001b[49m\n\u001b[0;32m    288\u001b[0m \u001b[43m            \u001b[49m\u001b[38;5;124;43m\"\u001b[39;49m\u001b[38;5;124;43mlimit\u001b[39;49m\u001b[38;5;124;43m\"\u001b[39;49m\u001b[43m:\u001b[49m\u001b[43mlimit\u001b[49m\n\u001b[0;32m    289\u001b[0m \u001b[43m        \u001b[49m\u001b[43m}\u001b[49m\u001b[43m)\u001b[49m\n\u001b[0;32m    290\u001b[0m     \u001b[38;5;28;01melse\u001b[39;00m:\n\u001b[0;32m    291\u001b[0m         \u001b[38;5;28;01mraise\u001b[39;00m DeviantartError(\u001b[38;5;124m\"\u001b[39m\u001b[38;5;124mDeviations does not work.\u001b[39m\u001b[38;5;124m\"\u001b[39m)\n",
      "File \u001b[1;32m~\\Documents\\GitHub\\FractalGenerator-rw\\deviantart\\env\\lib\\site-packages\\deviantart\\api.py:1755\u001b[0m, in \u001b[0;36mApi._req\u001b[1;34m(self, endpoint, get_data, post_data)\u001b[0m\n\u001b[0;32m   1753\u001b[0m     \u001b[38;5;28mself\u001b[39m\u001b[38;5;241m.\u001b[39m_checkResponseForErrors(response)\n\u001b[0;32m   1754\u001b[0m \u001b[38;5;28;01mexcept\u001b[39;00m HTTPError \u001b[38;5;28;01mas\u001b[39;00m e:\n\u001b[1;32m-> 1755\u001b[0m     \u001b[38;5;28;01mraise\u001b[39;00m DeviantartError(e)\n\u001b[0;32m   1757\u001b[0m \u001b[38;5;28;01mreturn\u001b[39;00m response\n",
      "\u001b[1;31mDeviantartError\u001b[0m: HTTP Error 404: Not Found"
     ]
    }
   ],
   "source": [
    "query = da.browse(\n",
    "    endpoint=ENDPOINT,\n",
    "    q=QUERY, \n",
    "    tag=TAG, \n",
    "    limit=PAGE_SIZE, \n",
    "    offset=PAGE_NUM)\n"
   ]
  },
  {
   "cell_type": "code",
   "execution_count": null,
   "metadata": {},
   "outputs": [],
   "source": [
    "# counter = 0\n",
    "# offset = query['next_offset']\n",
    "# for result in query['results']:\n",
    "#     if result.is_downloadable:\n",
    "#         if counter % 20 == 0:\n",
    "#             print(counter)\n",
    "#         helper = da.download_deviation(result.deviationid)\n",
    "#         attempt = requests.get(helper['src'])\n",
    "#         with open(os.path.join(REPO_PATH, f'{result.title}-{result.deviationid}.jpg'), 'wb') as file:\n",
    "#             file.write(attempt.content)\n",
    "#         counter += 1"
   ]
  },
  {
   "cell_type": "code",
   "execution_count": null,
   "metadata": {},
   "outputs": [],
   "source": [
    "counter = 0\n",
    "error_count = 0\n",
    "request_counter = 0\n",
    "\n",
    "BANNED = [\n",
    "    'DragonsAndBeasties', \n",
    "    'AlviaAlcedo',\n",
    "    'AkiZero1510',\n",
    "    \"ground-lion\",\n",
    "    'LuckyCloversArt',\n",
    "    'HowManyDragons'\n",
    "]\n",
    "\n",
    "while counter < 10000:\n",
    "    offset = query['next_offset']\n",
    "    if request_counter % 1000 == 0:\n",
    "        da = deviantart.Api(auth['client_id'], auth['client_secret'])\n",
    "    for result in query['results']:\n",
    "        if result.is_downloadable and result.author not in BANNED:\n",
    "            if counter % 200 == 0:\n",
    "                print(counter)\n",
    "            helper = da.download_deviation(result.deviationid)\n",
    "            attempt = requests.get(helper['src'])\n",
    "            try:\n",
    "                with open(os.path.join(REPO_PATH, f'{result.deviationid}.jpg'), 'wb') as file:\n",
    "                    file.write(attempt.content)\n",
    "                counter += 1\n",
    "            except Exception as ex:\n",
    "                print(ex, result.title)\n",
    "                error_count += 1\n",
    "        # if result.author not in BANNED:\n",
    "        #     if counter % 200 == 0:\n",
    "        #         print(counter)\n",
    "\n",
    "        #     attempt = requests.get(result.url)\n",
    "        #     try:\n",
    "        #         with open(os.path.join(REPO_PATH, f'{result.deviationid}.jpg'), 'wb') as file:\n",
    "        #             file.write(attempt.content)\n",
    "        #         counter +=1 \n",
    "        #     except Exception as ex:\n",
    "        #         print(result.deviationid, result.title)\n",
    "        #         error_count += 1\n",
    "    try:\n",
    "        query = da.browse(\n",
    "            endpoint=ENDPOINT,\n",
    "            # category_path=CAT_PATH, \n",
    "            # seed='50AC1709-D2F8-31D8-8A3E-D4761D75D4C6',\n",
    "            q=QUERY, \n",
    "            tag=TAG, \n",
    "            limit=PAGE_SIZE, \n",
    "            offset=offset)\n",
    "    except:\n",
    "        da = deviantart.Api(auth['client_id'], auth['client_secret'])\n",
    "    request_counter += 1\n",
    "\n",
    "print(error_count)"
   ]
  },
  {
   "cell_type": "code",
   "execution_count": null,
   "metadata": {},
   "outputs": [],
   "source": [
    "deev = da.get_deviation('FDA492E2-D0C4-0B59-301F-8A820963F1E9')\n",
    "print(dir(deev))\n",
    "# print(deev.author, deev.category) #AlviaAlcedo"
   ]
  },
  {
   "cell_type": "code",
   "execution_count": null,
   "metadata": {},
   "outputs": [],
   "source": [
    "deev = da.get_deviation('77FD7F8C-EDBE-792A-825A-2737DEF1FB2F')\n",
    "print(dir(deev))\n",
    "# print(deev.author, deev.category) #AlviaAlcedo\n",
    "print(deev.url)"
   ]
  },
  {
   "cell_type": "code",
   "execution_count": null,
   "metadata": {},
   "outputs": [],
   "source": [
    "obj = requests.get('https://www.deviantart.com/chigosenpai/art/DBZ-Chichi-VS-a-hot-day-749811786')\n",
    "\n",
    "with open(os.path.join(REPO_PATH+'2', f'DBZ-Chichi-VS-a-hot-day-749811786.jpg'), 'wb') as file:\n",
    "    file.write(attempt.content)\n",
    "counter += 1\n"
   ]
  },
  {
   "cell_type": "code",
   "execution_count": null,
   "metadata": {},
   "outputs": [],
   "source": [
    "dragolisco\n",
    "era7"
   ]
  },
  {
   "cell_type": "code",
   "execution_count": 73,
   "metadata": {},
   "outputs": [
    {
     "name": "stdout",
     "output_type": "stream",
     "text": [
      "A6E1B4C5-6008-FCE8-327E-7C6F031DD874\n",
      "False Priestess of the black root\n",
      "https://www.deviantart.com/anatofinnstark/art/Priestess-of-the-black-root-800086188\n"
     ]
    },
    {
     "ename": "AttributeError",
     "evalue": "'Response' object has no attribute 'contents'",
     "output_type": "error",
     "traceback": [
      "\u001b[1;31m---------------------------------------------------------------------------\u001b[0m",
      "\u001b[1;31mAttributeError\u001b[0m                            Traceback (most recent call last)",
      "\u001b[1;32mc:\\Users\\rwedd\\Documents\\GitHub\\FractalGenerator-rw\\deviantart\\image_collector.ipynb Cell 14'\u001b[0m in \u001b[0;36m<cell line: 1>\u001b[1;34m()\u001b[0m\n\u001b[0;32m      <a href='vscode-notebook-cell:/c%3A/Users/rwedd/Documents/GitHub/FractalGenerator-rw/deviantart/image_collector.ipynb#ch0000011?line=4'>5</a>\u001b[0m \u001b[39m# print(dir(res))\u001b[39;00m\n\u001b[0;32m      <a href='vscode-notebook-cell:/c%3A/Users/rwedd/Documents/GitHub/FractalGenerator-rw/deviantart/image_collector.ipynb#ch0000011?line=5'>6</a>\u001b[0m \u001b[39mprint\u001b[39m(res\u001b[39m.\u001b[39murl)\n\u001b[1;32m----> <a href='vscode-notebook-cell:/c%3A/Users/rwedd/Documents/GitHub/FractalGenerator-rw/deviantart/image_collector.ipynb#ch0000011?line=6'>7</a>\u001b[0m \u001b[39mprint\u001b[39m(requests\u001b[39m.\u001b[39;49mget(res\u001b[39m.\u001b[39;49murl)\u001b[39m.\u001b[39;49mcontents)\n",
      "\u001b[1;31mAttributeError\u001b[0m: 'Response' object has no attribute 'contents'"
     ]
    }
   ],
   "source": [
    "for res in query['results']:\n",
    "    if not res.is_downloadable:\n",
    "        print(res.deviationid)\n",
    "        print(res.is_downloadable, res.title)\n",
    "        # print(dir(res))\n",
    "        print(res.url)\n",
    "        print(requests.get(res.url).contents)"
   ]
  },
  {
   "cell_type": "code",
   "execution_count": null,
   "metadata": {},
   "outputs": [],
   "source": [
    "def this_thing(param):\n",
    "    print(param)\n",
    "\n",
    "def this_other_thing(arg):\n",
    "    print(arg)\n",
    "    this_thing(arg)"
   ]
  }
 ],
 "metadata": {
  "interpreter": {
   "hash": "1c1ed1648f52eeb4fd34ed5d6ee8f13e357c17548b13832f073c700172bd27cb"
  },
  "kernelspec": {
   "display_name": "Python 3 (ipykernel)",
   "language": "python",
   "name": "python3"
  },
  "language_info": {
   "codemirror_mode": {
    "name": "ipython",
    "version": 3
   },
   "file_extension": ".py",
   "mimetype": "text/x-python",
   "name": "python",
   "nbconvert_exporter": "python",
   "pygments_lexer": "ipython3",
   "version": "3.10.4"
  }
 },
 "nbformat": 4,
 "nbformat_minor": 4
}
